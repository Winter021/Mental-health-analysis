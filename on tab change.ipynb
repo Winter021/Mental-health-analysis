{
 "cells": [
  {
   "cell_type": "code",
   "execution_count": null,
   "id": "2ac201f1-1acd-46fb-9273-46a19900fd1c",
   "metadata": {},
   "outputs": [
    {
     "name": "stdout",
     "output_type": "stream",
     "text": [
      "Switched tabs or opened a new tab.\n",
      "Screenshot captured: images\\tab_change_1.png\n"
     ]
    }
   ],
   "source": [
    "from selenium import webdriver\n",
    "from selenium.webdriver.common.keys import Keys\n",
    "import time\n",
    "import os\n",
    "\n",
    "def create_images_folder():\n",
    "    folder_name = \"images\"\n",
    "    if not os.path.exists(folder_name):\n",
    "        os.makedirs(folder_name)\n",
    "    return folder_name\n",
    "\n",
    "def capture_screenshot(folder_path, screenshot_name):\n",
    "    screenshot_path = os.path.join(folder_path, screenshot_name)\n",
    "    driver.save_screenshot(screenshot_path)\n",
    "    print(f\"Screenshot captured: {screenshot_path}\")\n",
    "\n",
    "def main():\n",
    "    folder_path = create_images_folder()\n",
    "    last_window_handles = set()\n",
    "\n",
    "    try:\n",
    "        while True:\n",
    "            current_window_handles = set(driver.window_handles)\n",
    "\n",
    "            # Check for a new page navigation (e.g., Ctrl + N)\n",
    "            if keyboard.is_pressed(\"ctrl\") and keyboard.is_pressed(\"n\"):\n",
    "                print(\"Navigated to a new page.\")\n",
    "                capture_screenshot(folder_path, \"new_page.png\")\n",
    "\n",
    "            # Check for a new tab or tab switch\n",
    "            if current_window_handles != last_window_handles:\n",
    "                print(\"Switched tabs or opened a new tab.\")\n",
    "                capture_screenshot(folder_path, f\"tab_change_{len(current_window_handles)}.png\")\n",
    "                last_window_handles = current_window_handles\n",
    "\n",
    "            # Check for scrolling, capture screenshot every 2 seconds\n",
    "            time.sleep(2)\n",
    "    except KeyboardInterrupt:\n",
    "        print(\"\\nScreenshot capturing stopped.\")\n",
    "\n",
    "if __name__ == \"__main__\":\n",
    "    driver = webdriver.Chrome()  # Make sure you have chromedriver installed and in your PATH\n",
    "    driver.get(\"https://www.google.com\")  # Replace with your initial URL\n",
    "    main()\n"
   ]
  },
  {
   "cell_type": "code",
   "execution_count": null,
   "id": "6ed1138a-efdb-474e-be64-f1b0e28a6cc2",
   "metadata": {},
   "outputs": [],
   "source": []
  },
  {
   "cell_type": "code",
   "execution_count": null,
   "id": "5b6ce911-16e2-47c4-8bbf-63478310588e",
   "metadata": {},
   "outputs": [],
   "source": []
  }
 ],
 "metadata": {
  "kernelspec": {
   "display_name": "Python 3 (ipykernel)",
   "language": "python",
   "name": "python3"
  },
  "language_info": {
   "codemirror_mode": {
    "name": "ipython",
    "version": 3
   },
   "file_extension": ".py",
   "mimetype": "text/x-python",
   "name": "python",
   "nbconvert_exporter": "python",
   "pygments_lexer": "ipython3",
   "version": "3.10.4"
  }
 },
 "nbformat": 4,
 "nbformat_minor": 5
}
