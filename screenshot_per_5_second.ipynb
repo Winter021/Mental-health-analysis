{
 "cells": [
  {
   "cell_type": "code",
   "execution_count": 4,
   "id": "b2d89ad3-87f1-486f-870c-563e6b53d3df",
   "metadata": {},
   "outputs": [
    {
     "name": "stdout",
     "output_type": "stream",
     "text": [
      "Screenshot captured: images\\screenshot_20240211_033453.png\n",
      "Screenshot captured: images\\screenshot_20240211_033459.png\n",
      "\n",
      "Screenshot capturing stopped.\n"
     ]
    }
   ],
   "source": [
    "import os\n",
    "import time\n",
    "from datetime import datetime\n",
    "import pyautogui\n",
    "import tkinter as tk\n",
    "from tkinter import Button, Label\n",
    "\n",
    "class ScreenshotApp:\n",
    "    def __init__(self, master):\n",
    "        self.master = master\n",
    "        master.title(\"Screenshot Capture\")\n",
    "\n",
    "        self.folder_path = self.create_images_folder()\n",
    "\n",
    "        self.label = Label(master, text=\"Capturing screenshots every 5 seconds.\")\n",
    "        self.label.pack()\n",
    "\n",
    "        self.stop_button = Button(master, text=\"Stop Capturing\", command=self.stop_capture)\n",
    "        self.stop_button.pack()\n",
    "\n",
    "        self.capture_screenshots()\n",
    "\n",
    "    def create_images_folder(self):\n",
    "        folder_name = \"images\"\n",
    "        if not os.path.exists(folder_name):\n",
    "            os.makedirs(folder_name)\n",
    "        return folder_name\n",
    "\n",
    "    def capture_screenshot(self):\n",
    "        timestamp = datetime.now().strftime(\"%Y%m%d_%H%M%S\")\n",
    "        screenshot_name = f\"screenshot_{timestamp}.png\"\n",
    "        screenshot_path = os.path.join(self.folder_path, screenshot_name)\n",
    "        pyautogui.screenshot(screenshot_path)\n",
    "        print(f\"Screenshot captured: {screenshot_path}\")\n",
    "\n",
    "    def capture_screenshots(self):\n",
    "        self.running = True\n",
    "        while self.running:\n",
    "            self.capture_screenshot()\n",
    "            time.sleep(5)  # Capture a screenshot every 5 seconds\n",
    "            self.master.update()  # Update the GUI to handle events\n",
    "\n",
    "    def stop_capture(self):\n",
    "        self.running = False\n",
    "        print(\"\\nScreenshot capturing stopped.\")\n",
    "        self.master.destroy()\n",
    "\n",
    "def main():\n",
    "    root = tk.Tk()\n",
    "    app = ScreenshotApp(root)\n",
    "    root.mainloop()\n",
    "\n",
    "if __name__ == \"__main__\":\n",
    "    main()\n"
   ]
  },
  {
   "cell_type": "code",
   "execution_count": null,
   "id": "faa5041c-cbf0-4c2c-9d8d-aab96a9b57b5",
   "metadata": {},
   "outputs": [],
   "source": []
  }
 ],
 "metadata": {
  "kernelspec": {
   "display_name": "Python 3 (ipykernel)",
   "language": "python",
   "name": "python3"
  },
  "language_info": {
   "codemirror_mode": {
    "name": "ipython",
    "version": 3
   },
   "file_extension": ".py",
   "mimetype": "text/x-python",
   "name": "python",
   "nbconvert_exporter": "python",
   "pygments_lexer": "ipython3",
   "version": "3.10.4"
  }
 },
 "nbformat": 4,
 "nbformat_minor": 5
}
