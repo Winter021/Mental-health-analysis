{
 "cells": [
  {
   "cell_type": "code",
   "execution_count": 5,
   "id": "2ac201f1-1acd-46fb-9273-46a19900fd1c",
   "metadata": {},
   "outputs": [
    {
     "name": "stdout",
     "output_type": "stream",
     "text": [
      "\n",
      "Screenshot capturing stopped.\n"
     ]
    }
   ],
   "source": [
    "import os\n",
    "import time\n",
    "from datetime import datetime\n",
    "import pyautogui\n",
    "import pygetwindow as gw\n",
    "import keyboard\n",
    "\n",
    "def create_images_folder():\n",
    "    folder_name = \"images\"\n",
    "    if not os.path.exists(folder_name):\n",
    "        os.makedirs(folder_name)\n",
    "    return folder_name\n",
    "\n",
    "def capture_screenshot(folder_path):\n",
    "    timestamp = datetime.now().strftime(\"%Y%m%d_%H%M%S\")\n",
    "    screenshot_name = f\"screenshot_{timestamp}.png\"\n",
    "    screenshot_path = os.path.join(folder_path, screenshot_name)\n",
    "    pyautogui.screenshot(screenshot_path)\n",
    "    print(f\"Screenshot captured: {screenshot_path}\")\n",
    "\n",
    "def main():\n",
    "    folder_path = create_images_folder()\n",
    "    last_active_window = gw.getActiveWindow()\n",
    "\n",
    "    try:\n",
    "        while True:\n",
    "            active_window = gw.getActiveWindow()\n",
    "\n",
    "            # Check for a new page navigation (e.g., Ctrl + N)\n",
    "            if keyboard.is_pressed(\"ctrl\") and keyboard.is_pressed(\"n\"):\n",
    "                print(\"Navigated to a new page.\")\n",
    "                capture_screenshot(folder_path)\n",
    "\n",
    "            # Check for switching tabs (e.g., Ctrl + Tab)\n",
    "            if keyboard.is_pressed(\"ctrl\") and keyboard.is_pressed(\"tab\"):\n",
    "                print(\"Switched tabs.\")\n",
    "                capture_screenshot(folder_path)\n",
    "\n",
    "            # Check for scrolling, capture screenshot every 2 seconds\n",
    "            if active_window != last_active_window:\n",
    "                print(\"Switched to a new window.\")\n",
    "                capture_screenshot(folder_path)\n",
    "                last_active_window = active_window\n",
    "\n",
    "            time.sleep(2)\n",
    "    except KeyboardInterrupt:\n",
    "        print(\"\\nScreenshot capturing stopped.\")\n",
    "\n",
    "if __name__ == \"__main__\":\n",
    "    main()\n"
   ]
  },
  {
   "cell_type": "code",
   "execution_count": null,
   "id": "6ed1138a-efdb-474e-be64-f1b0e28a6cc2",
   "metadata": {},
   "outputs": [],
   "source": []
  },
  {
   "cell_type": "code",
   "execution_count": null,
   "id": "5b6ce911-16e2-47c4-8bbf-63478310588e",
   "metadata": {},
   "outputs": [],
   "source": []
  }
 ],
 "metadata": {
  "kernelspec": {
   "display_name": "Python 3 (ipykernel)",
   "language": "python",
   "name": "python3"
  },
  "language_info": {
   "codemirror_mode": {
    "name": "ipython",
    "version": 3
   },
   "file_extension": ".py",
   "mimetype": "text/x-python",
   "name": "python",
   "nbconvert_exporter": "python",
   "pygments_lexer": "ipython3",
   "version": "3.10.4"
  }
 },
 "nbformat": 4,
 "nbformat_minor": 5
}
